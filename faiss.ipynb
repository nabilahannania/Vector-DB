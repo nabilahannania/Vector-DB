{
 "cells": [
  {
   "cell_type": "markdown",
   "id": "3a25eca5",
   "metadata": {},
   "source": [
    "# Import Library"
   ]
  },
  {
   "cell_type": "code",
   "execution_count": 1,
   "id": "b0c4d922",
   "metadata": {},
   "outputs": [],
   "source": [
    "import os\n",
    "import time\n",
    "import numpy as np\n",
    "import faiss"
   ]
  },
  {
   "cell_type": "markdown",
   "id": "a37a9ff4",
   "metadata": {},
   "source": [
    "# Config"
   ]
  },
  {
   "cell_type": "code",
   "execution_count": 2,
   "id": "afc1c112",
   "metadata": {},
   "outputs": [],
   "source": [
    "DIM = 512\n",
    "TOTAL_VECS = 100\n",
    "TOPK = 3\n",
    "QUERY_SIZE = 1\n",
    "INDEX_FILE = \"flat.index\""
   ]
  },
  {
   "cell_type": "markdown",
   "id": "0b1d9e12",
   "metadata": {},
   "source": [
    "# Function"
   ]
  },
  {
   "cell_type": "code",
   "execution_count": 3,
   "id": "cac20194",
   "metadata": {},
   "outputs": [],
   "source": [
    "def build_flat_index():\n",
    "    print(\"Using IndexFlatIP (cosine/inner product)\")\n",
    "    return faiss.IndexFlatIP(DIM)\n",
    "\n",
    "def add_vectors(index):\n",
    "    xb = np.random.random((TOTAL_VECS, DIM))\n",
    "    t0 = time.time()\n",
    "    index.add(xb)\n",
    "    print(f\"Add +{TOTAL_VECS:,} -> ntotal={index.ntotal:,} ({time.time()-t0:.2f}s)\")\n",
    "    save_index(index, INDEX_FILE)\n",
    "\n",
    "def save_index(index, path):\n",
    "    print(f\"Save {path} (ntotal={index.ntotal:,})\")\n",
    "    faiss.write_index(index, path)\n",
    "\n",
    "def load_index(path):\n",
    "    print(f\"Load {path}\")\n",
    "    return faiss.read_index(path)\n",
    "\n",
    "def search_demo(index):\n",
    "    print(f\"Search demo with {QUERY_SIZE} queries, TOPK={TOPK} …\")\n",
    "    xq = np.random.random((QUERY_SIZE, DIM)).astype('float32')\n",
    "    t0 = time.time()\n",
    "    D, I = index.search(xq, TOPK)\n",
    "    elapsed = time.time() - t0\n",
    "    print(f\"Search {elapsed:.4f}s for {QUERY_SIZE} queries \"\n",
    "          f\"(~{elapsed/QUERY_SIZE:.6f} sec/query)\")\n",
    "    print(\"First query result:\", list(zip(I[0].tolist(), D[0].tolist())))\n"
   ]
  },
  {
   "cell_type": "markdown",
   "id": "83e7cf37",
   "metadata": {},
   "source": [
    "# Test"
   ]
  },
  {
   "cell_type": "code",
   "execution_count": 4,
   "id": "05d5cda1",
   "metadata": {},
   "outputs": [
    {
     "name": "stdout",
     "output_type": "stream",
     "text": [
      "Load flat.index\n",
      "Search demo with 1 queries, TOPK=3 …\n",
      "Search 0.0000s for 1 queries (~0.000044 sec/query)\n",
      "First query result: [(39, 136.16488647460938), (96, 135.36203002929688), (63, 135.18936157226562)]\n"
     ]
    }
   ],
   "source": [
    "if os.path.exists(INDEX_FILE):\n",
    "    index = load_index(INDEX_FILE)\n",
    "else:\n",
    "    index = build_flat_index()\n",
    "    add_vectors(index)\n",
    "    \n",
    "search_demo(index)"
   ]
  },
  {
   "cell_type": "code",
   "execution_count": null,
   "id": "e33794ab",
   "metadata": {},
   "outputs": [],
   "source": []
  }
 ],
 "metadata": {
  "kernelspec": {
   "display_name": "case",
   "language": "python",
   "name": "python3"
  },
  "language_info": {
   "codemirror_mode": {
    "name": "ipython",
    "version": 3
   },
   "file_extension": ".py",
   "mimetype": "text/x-python",
   "name": "python",
   "nbconvert_exporter": "python",
   "pygments_lexer": "ipython3",
   "version": "3.11.13"
  }
 },
 "nbformat": 4,
 "nbformat_minor": 5
}
